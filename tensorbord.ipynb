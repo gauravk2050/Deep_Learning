{
 "cells": [
  {
   "cell_type": "markdown",
   "metadata": {},
   "source": [
    "<h2 style=\"color:blue\" align=\"center\">Tensorboard demo using handwritten digits classification using neural network</h2>"
   ]
  },
  {
   "cell_type": "markdown",
   "metadata": {},
   "source": [
    "In this notebook we will classify handwritten digits using a simple neural network which has only input and output layers. We will than add a hidden layer and see how the performance of the model improves"
   ]
  },
  {
   "cell_type": "code",
   "execution_count": 1,
   "metadata": {},
   "outputs": [],
   "source": [
    "import tensorflow as tf\n",
    "from tensorflow import keras\n",
    "import matplotlib.pyplot as plt\n",
    "%matplotlib inline\n",
    "import numpy as np"
   ]
  },
  {
   "cell_type": "code",
   "execution_count": 2,
   "metadata": {},
   "outputs": [],
   "source": [
    "(X_train, y_train) , (X_test, y_test) = keras.datasets.mnist.load_data()"
   ]
  },
  {
   "cell_type": "code",
   "execution_count": 3,
   "metadata": {},
   "outputs": [
    {
     "data": {
      "text/plain": [
       "60000"
      ]
     },
     "execution_count": 3,
     "metadata": {},
     "output_type": "execute_result"
    }
   ],
   "source": [
    "len(X_train)"
   ]
  },
  {
   "cell_type": "code",
   "execution_count": 4,
   "metadata": {},
   "outputs": [
    {
     "data": {
      "text/plain": [
       "10000"
      ]
     },
     "execution_count": 4,
     "metadata": {},
     "output_type": "execute_result"
    }
   ],
   "source": [
    "len(X_test)"
   ]
  },
  {
   "cell_type": "code",
   "execution_count": 5,
   "metadata": {},
   "outputs": [
    {
     "data": {
      "text/plain": [
       "(28, 28)"
      ]
     },
     "execution_count": 5,
     "metadata": {},
     "output_type": "execute_result"
    }
   ],
   "source": [
    "X_train[0].shape"
   ]
  },
  {
   "cell_type": "code",
   "execution_count": 6,
   "metadata": {},
   "outputs": [
    {
     "data": {
      "text/plain": [
       "<matplotlib.image.AxesImage at 0x14df2f33c70>"
      ]
     },
     "execution_count": 6,
     "metadata": {},
     "output_type": "execute_result"
    },
    {
     "data": {
      "image/png": "[encoded data removed]",
      "text/plain": [
       "<Figure size 288x288 with 1 Axes>"
      ]
     },
     "metadata": {
      "needs_background": "light"
     },
     "output_type": "display_data"
    }
   ],
   "source": [
    "plt.matshow(X_train[0])"
   ]
  },
  {
   "cell_type": "code",
   "execution_count": 7,
   "metadata": {},
   "outputs": [
    {
     "data": {
      "text/plain": [
       "5"
      ]
     },
     "execution_count": 7,
     "metadata": {},
     "output_type": "execute_result"
    }
   ],
   "source": [
    "y_train[0]"
   ]
  },
  {
   "cell_type": "code",
   "execution_count": 8,
   "metadata": {},
   "outputs": [],
   "source": [
    "X_train = X_train / 255\n",
    "X_test = X_test / 255"
   ]
  },
  {
   "cell_type": "code",
   "execution_count": 9,
   "metadata": {},
   "outputs": [],
   "source": [
    "X_train_flattened = X_train.reshape(len(X_train), 28*28)\n",
    "X_test_flattened = X_test.reshape(len(X_test), 28*28)"
   ]
  },
  {
   "cell_type": "code",
   "execution_count": 10,
   "metadata": {},
   "outputs": [
    {
     "data": {
      "text/plain": [
       "(60000, 784)"
      ]
     },
     "execution_count": 10,
     "metadata": {},
     "output_type": "execute_result"
    }
   ],
   "source": [
    "X_train_flattened.shape"
   ]
  },
  {
   "cell_type": "markdown",
   "metadata": {},
   "source": [
    "<h3 style='color:purple'>Using Flatten layer so that we don't have to call .reshape on input dataset</h3>"
   ]
  },
  {
   "cell_type": "code",
   "execution_count": 16,
   "metadata": {
    "scrolled": false
   },
   "outputs": [
    {
     "name": "stdout",
     "output_type": "stream",
     "text": [
      "Epoch 1/5\n",
      "1875/1875 [==============================] - 5s 2ms/step - loss: 0.2715 - accuracy: 0.9233\n",
      "Epoch 2/5\n",
      "1875/1875 [==============================] - 4s 2ms/step - loss: 0.1247 - accuracy: 0.9630\n",
      "Epoch 3/5\n",
      "1875/1875 [==============================] - 4s 2ms/step - loss: 0.0870 - accuracy: 0.9743\n",
      "Epoch 4/5\n",
      "1875/1875 [==============================] - 4s 2ms/step - loss: 0.0664 - accuracy: 0.9795\n",
      "Epoch 5/5\n",
      "1875/1875 [==============================] - 4s 2ms/step - loss: 0.0525 - accuracy: 0.9839\n"
     ]
    },
    {
     "data": {
      "text/plain": [
       "<tensorflow.python.keras.callbacks.History at 0x14df26243a0>"
      ]
     },
     "execution_count": 16,
     "metadata": {},
     "output_type": "execute_result"
    }
   ],
   "source": [
    "model = keras.Sequential([\n",
    "    keras.layers.Flatten(input_shape=(28, 28)),\n",
    "    keras.layers.Dense(100, activation='relu'),\n",
    "    keras.layers.Dense(10, activation='sigmoid')\n",
    "])\n",
    "\n",
    "model.compile(optimizer='adam',\n",
    "              loss='sparse_categorical_crossentropy',\n",
    "              metrics=['accuracy'])\n",
    "\n",
    "tb_callback = tf.keras.callbacks.TensorBoard(log_dir=\"logs/\", histogram_freq=1)\n",
    "\n",
    "model.fit(X_train, y_train, epochs=5, callbacks=[tb_callback])"
   ]
  },
  {
   "cell_type": "code",
   "execution_count": 17,
   "metadata": {},
   "outputs": [
    {
     "name": "stdout",
     "output_type": "stream",
     "text": [
      "The tensorboard extension is already loaded. To reload it, use:\n",
      "  %reload_ext tensorboard\n"
     ]
    },
    {
     "data": {
      "text/plain": [
       "Reusing TensorBoard on port 6006 (pid 23084), started 0:17:20 ago. (Use '!kill 23084' to kill it.)"
      ]
     },
     "metadata": {},
     "output_type": "display_data"
    },
    {
     "data": {
      "text/html": [
       "\n",
       "      <iframe id=\"tensorboard-frame-ff0c19364a696ea1\" width=\"100%\" height=\"800\" frameborder=\"0\">\n",
       "      </iframe>\n",
       "      <script>\n",
       "        (function() {\n",
       "          const frame = document.getElementById(\"tensorboard-frame-ff0c19364a696ea1\");\n",
       "          const url = new URL(\"/\", window.location);\n",
       "          const port = 6006;\n",
       "          if (port) {\n",
       "            url.port = port;\n",
       "          }\n",
       "          frame.src = url;\n",
       "        })();\n",
       "      </script>\n",
       "    "
      ],
      "text/plain": [
       "<IPython.core.display.HTML object>"
      ]
     },
     "metadata": {},
     "output_type": "display_data"
    }
   ],
   "source": [
    "%load_ext tensorboard\n",
    "%tensorboard --logdir logs/fit"
   ]
  },
  {
   "cell_type": "markdown",
   "metadata": {},
   "source": [
    "Either run above inline magic or go to git bash or your command prompt and type below to run it,\n",
    "`tensorboard --logdir logs/`\n",
    "This will launch tensorboard at this url which you can open in your browser `http://localhost:6006/`"
   ]
  },
  {
   "cell_type": "code",
   "execution_count": 21,
   "metadata": {},
   "outputs": [
    {
     "data": {
      "text/plain": [
       "[array([[ 0.04093296,  0.08112629, -0.05800796, ...,  0.00068333,\n",
       "          0.03807832, -0.01852727],\n",
       "        [ 0.07089302,  0.05698514,  0.06921424, ...,  0.00185055,\n",
       "         -0.06340343,  0.02551061],\n",
       "        [-0.04960891, -0.0430057 , -0.07523778, ..., -0.02827839,\n",
       "          0.01250189, -0.03469837],\n",
       "        ...,\n",
       "        [ 0.06473893,  0.01415075,  0.03962359, ...,  0.0699849 ,\n",
       "          0.00998345,  0.03489289],\n",
       "        [ 0.07778566, -0.01007942,  0.06582518, ..., -0.01105617,\n",
       "          0.07968578, -0.00635236],\n",
       "        [ 0.05972199, -0.06683303, -0.01127657, ..., -0.03569844,\n",
       "         -0.0116123 ,  0.02944983]], dtype=float32),\n",
       " array([ 0.06655598, -0.11703632, -0.04661404,  0.23278607,  0.05069802,\n",
       "         0.09457715, -0.10133705, -0.07137947,  0.10265487, -0.00281313,\n",
       "        -0.01143664, -0.18732983,  0.13583161, -0.137785  , -0.11593928,\n",
       "         0.06217435, -0.13492018, -0.03396139, -0.02394515, -0.04111102,\n",
       "        -0.07212213, -0.05831832, -0.11087389, -0.11551158,  0.03063981,\n",
       "        -0.0960016 ,  0.12654294,  0.06985247, -0.13779473,  0.09200799,\n",
       "        -0.01229428,  0.09590331,  0.22374977,  0.07262849, -0.02758491,\n",
       "        -0.16268243, -0.1029021 ,  0.07734878, -0.10042401, -0.0734425 ,\n",
       "         0.02966144,  0.1599737 , -0.0756548 ,  0.06019701,  0.17580813,\n",
       "        -0.05181476,  0.12078316, -0.11858628,  0.14694206,  0.04264745,\n",
       "         0.15130566, -0.13279502,  0.10283959, -0.0920343 ,  0.16504976,\n",
       "         0.11490927,  0.07511013,  0.14770333,  0.08200496,  0.23173489,\n",
       "         0.06696487, -0.07342626,  0.12149768,  0.02092133,  0.05314034,\n",
       "         0.2544159 ,  0.16072129,  0.08771425, -0.00418952, -0.04776729,\n",
       "         0.04319322, -0.00608591, -0.11378508, -0.17215726, -0.07387395,\n",
       "        -0.01859107,  0.23606575,  0.00839613,  0.06376992, -0.0092269 ,\n",
       "         0.07851575,  0.10102855, -0.15162073, -0.10288705, -0.04198264,\n",
       "        -0.04202039,  0.0712111 , -0.01439127, -0.03099429,  0.17413518,\n",
       "        -0.09742483, -0.07121824,  0.24266297,  0.01330406,  0.15601218,\n",
       "        -0.08545113,  0.07913098,  0.2264443 ,  0.01009494, -0.10151855],\n",
       "       dtype=float32),\n",
       " array([[ 2.37929076e-01, -4.01883215e-01,  4.88526613e-01,\n",
       "         -1.80385754e-01,  1.26107886e-01, -1.40565544e-01,\n",
       "          1.91416174e-01, -1.87339023e-01, -4.50678378e-01,\n",
       "         -9.56411734e-02],\n",
       "        [-1.72022194e-01,  3.32512796e-01,  4.64054793e-02,\n",
       "          3.21594268e-01,  2.75103360e-01, -7.86049545e-01,\n",
       "          7.16628805e-02,  3.13201308e-01, -2.89337754e-01,\n",
       "         -3.19246113e-01],\n",
       "        [-1.78185776e-01,  7.95433223e-02, -3.76763374e-01,\n",
       "          4.28875908e-02,  2.25747392e-01, -1.85877383e-01,\n",
       "         -2.09399685e-01,  3.67189765e-01,  8.20590407e-02,\n",
       "         -2.19512045e-01],\n",
       "        [-1.57746553e-01, -1.55150920e-01, -7.35396028e-01,\n",
       "         -1.65918112e-01,  2.72965640e-01,  3.99587274e-01,\n",
       "          1.63650632e-01, -1.76200002e-01,  2.60277510e-01,\n",
       "          5.34106456e-02],\n",
       "        [-1.99201368e-02,  6.26458764e-01,  3.39195058e-02,\n",
       "          1.97333336e-01,  7.40230024e-01, -4.44555759e-01,\n",
       "         -6.75149858e-02,  8.52412358e-02, -3.19598913e-01,\n",
       "         -4.52664763e-01],\n",
       "        [-3.41458648e-01, -3.00761670e-01, -1.22657426e-01,\n",
       "         -5.19554496e-01, -7.27107227e-01,  4.47898656e-01,\n",
       "          4.99712169e-01, -3.40151340e-01, -2.77377851e-02,\n",
       "          6.78346455e-02],\n",
       "        [-7.05467165e-01,  2.20411435e-01,  1.92649826e-01,\n",
       "          2.84391880e-01, -2.54927009e-01,  9.52961072e-02,\n",
       "         -5.41655540e-01,  2.89643168e-01, -3.01895365e-02,\n",
       "         -6.20802104e-01],\n",
       "        [-3.04929197e-01,  1.18150890e-01,  7.70871416e-02,\n",
       "         -3.67257409e-02, -1.85800835e-01,  2.97502190e-01,\n",
       "         -1.37615412e-01,  3.99764955e-01, -5.52581191e-01,\n",
       "         -7.72398829e-01],\n",
       "        [ 1.70804486e-01, -4.28064793e-01,  8.27543810e-02,\n",
       "         -2.74467111e-01,  1.57662109e-01, -1.12839021e-01,\n",
       "          1.55108303e-01, -1.21429714e-03,  1.56822205e-01,\n",
       "         -7.83170760e-02],\n",
       "        [ 5.10626495e-01, -2.26082921e-01,  3.97610456e-01,\n",
       "         -3.36177707e-01,  5.07105365e-02, -7.45615363e-01,\n",
       "         -3.80308688e-01,  1.17751144e-01, -1.24739900e-01,\n",
       "          2.43778959e-01],\n",
       "        [ 3.88275176e-01, -2.39789739e-01, -2.33143076e-01,\n",
       "         -1.37460709e-01,  2.62024879e-01, -5.76366007e-01,\n",
       "          2.82934397e-01,  1.45247549e-01, -2.04709709e-01,\n",
       "          1.10490628e-01],\n",
       "        [ 1.91288948e-01, -5.06629467e-01,  3.37534398e-02,\n",
       "          9.03805867e-02, -5.71076035e-01, -7.36931115e-02,\n",
       "         -1.74392343e-01, -7.64203444e-02,  3.03750932e-02,\n",
       "          1.29050314e-01],\n",
       "        [ 9.04422700e-02, -6.77976847e-01,  3.51019144e-01,\n",
       "          3.76765013e-01, -7.40189016e-01,  3.87182355e-01,\n",
       "         -5.47635078e-01,  1.85718715e-01, -2.17678204e-01,\n",
       "          3.15354019e-01],\n",
       "        [-2.35260949e-01,  2.94767976e-01, -6.41418919e-02,\n",
       "          3.32564473e-01,  2.11719856e-01,  3.24021518e-01,\n",
       "         -2.83773899e-01,  7.45741725e-02, -6.15862489e-01,\n",
       "          4.01327729e-01],\n",
       "        [ 3.57746370e-02, -3.69187325e-01,  1.33966357e-01,\n",
       "          8.10007975e-02, -1.82333261e-01, -4.61237401e-01,\n",
       "         -3.81765246e-01,  1.16577260e-01,  1.99383214e-01,\n",
       "          1.94001704e-01],\n",
       "        [-6.28165960e-01,  2.75123179e-01,  2.10432574e-01,\n",
       "         -8.35777000e-02, -1.32567406e-01, -2.17000604e-01,\n",
       "         -1.28851220e-01,  1.66000165e-02,  4.62174177e-01,\n",
       "         -6.78245366e-01],\n",
       "        [ 3.06195408e-01,  8.24907795e-03,  1.81765750e-01,\n",
       "          4.30514850e-02,  1.76494643e-01, -6.38100386e-01,\n",
       "         -5.09431183e-01,  9.29672867e-02,  3.65549736e-02,\n",
       "          2.10700005e-01],\n",
       "        [ 3.33146185e-01, -3.07664275e-01,  1.00024730e-01,\n",
       "          1.56837180e-01, -7.37206280e-01,  2.59576738e-01,\n",
       "         -1.60803035e-01, -2.41542738e-02, -1.86474770e-02,\n",
       "         -2.57313728e-01],\n",
       "        [ 1.91526681e-01,  1.84884727e-01,  2.69353032e-01,\n",
       "         -1.18881799e-01, -5.78993142e-01, -3.27571750e-01,\n",
       "         -1.34765536e-01, -1.81196183e-01,  8.50726962e-02,\n",
       "          1.23316757e-01],\n",
       "        [-2.27192521e-01, -5.20986654e-02, -1.48251178e-02,\n",
       "          6.65788352e-02, -1.04241997e-01, -3.31327245e-02,\n",
       "         -5.81473596e-02, -7.70041719e-02,  1.83537796e-01,\n",
       "         -1.47048622e-01],\n",
       "        [-4.80292626e-02, -5.53795020e-04,  1.72101468e-01,\n",
       "          1.68794185e-01,  5.77385649e-02,  1.76959172e-01,\n",
       "         -4.02570903e-01, -1.80517994e-02,  2.69409508e-01,\n",
       "          1.63312316e-01],\n",
       "        [ 1.16768345e-01, -2.28631526e-01,  1.51019484e-01,\n",
       "          1.19333044e-01, -6.25790954e-01,  1.20596558e-01,\n",
       "          2.16927066e-01,  9.31225568e-02,  1.69138551e-01,\n",
       "         -2.51729012e-01],\n",
       "        [ 4.95487414e-02,  1.54679954e-01,  3.55229229e-01,\n",
       "          3.46572250e-01, -2.60989696e-01, -2.40191638e-01,\n",
       "         -1.53068319e-01,  3.67005110e-01, -2.91726589e-01,\n",
       "         -5.59655011e-01],\n",
       "        [-2.35783353e-01, -4.87135291e-01, -2.87680656e-01,\n",
       "          2.40143389e-01,  1.57554805e-01,  2.51500607e-01,\n",
       "         -3.09520394e-01, -6.18355632e-01,  2.32074723e-01,\n",
       "          4.25134972e-02],\n",
       "        [-1.89246714e-01, -1.90276727e-02, -2.59209484e-01,\n",
       "          5.46108373e-02, -1.37407675e-01,  6.09988123e-02,\n",
       "          1.13333680e-01, -1.26488149e-01,  1.61635250e-01,\n",
       "          3.13733891e-02],\n",
       "        [ 2.61117905e-01, -5.66231370e-01, -3.05984020e-01,\n",
       "         -5.88002540e-02, -2.17108075e-02, -1.14569217e-01,\n",
       "          1.93370804e-01, -1.72727123e-01, -9.76075083e-02,\n",
       "          1.09530315e-01],\n",
       "        [ 1.66205123e-01, -3.06330085e-01,  4.95260596e-01,\n",
       "          2.13600233e-01,  8.75688270e-02,  1.91747740e-01,\n",
       "          8.22803229e-02, -2.65174508e-01, -1.22838348e-01,\n",
       "         -5.72933376e-01],\n",
       "        [ 3.31239551e-01,  5.56736231e-01, -2.24844143e-01,\n",
       "         -3.58938307e-01, -4.10421044e-01,  1.64390594e-01,\n",
       "          1.94991067e-01, -3.57218146e-01, -2.94450730e-01,\n",
       "         -1.95376024e-01],\n",
       "        [ 2.51229018e-01,  2.98087209e-01,  3.23642313e-01,\n",
       "          1.55394077e-01, -5.05727708e-01, -5.66606939e-01,\n",
       "         -5.58294117e-01,  2.44346276e-01, -1.61765322e-01,\n",
       "         -2.82866150e-01],\n",
       "        [-1.90132514e-01,  1.63425043e-01, -1.25801951e-01,\n",
       "         -3.27445269e-01,  2.11476773e-01,  2.72473633e-01,\n",
       "          2.79558182e-01, -3.73842120e-01, -6.70720637e-01,\n",
       "          2.44823888e-01],\n",
       "        [-7.23722041e-01,  2.51008999e-02, -4.58944857e-01,\n",
       "          4.13119532e-02,  9.69203115e-02,  1.71078518e-01,\n",
       "         -2.20336378e-01, -4.55529213e-01,  2.74536926e-02,\n",
       "          2.21207231e-01],\n",
       "        [ 1.78558812e-01,  2.48147279e-01,  1.67697832e-01,\n",
       "         -2.52662271e-01,  3.24347407e-01, -2.84489542e-02,\n",
       "         -1.87918738e-01, -3.40359136e-02,  2.25429237e-02,\n",
       "         -5.35017073e-01],\n",
       "        [-3.76291960e-01,  2.74784058e-01,  3.42746079e-01,\n",
       "         -5.94427228e-01,  1.00569114e-01,  1.35804370e-01,\n",
       "          2.05238700e-01, -2.03013703e-01, -2.87403837e-02,\n",
       "         -1.93571568e-01],\n",
       "        [-3.42125773e-01,  2.38728926e-01,  3.18541437e-01,\n",
       "         -7.06236660e-01,  2.58005857e-01, -2.96668857e-01,\n",
       "         -7.57016838e-02,  3.32434446e-01,  1.19747415e-01,\n",
       "         -3.10773492e-01],\n",
       "        [ 1.40520841e-01,  3.81602198e-01,  2.58810312e-01,\n",
       "          8.34578872e-02,  2.80943885e-02, -7.36195147e-01,\n",
       "         -4.59242851e-01,  4.35262769e-02,  1.84407756e-02,\n",
       "          1.04050159e-01],\n",
       "        [ 3.28582287e-01, -2.07733005e-01, -3.16058367e-01,\n",
       "          2.33662412e-01, -5.11203468e-01, -8.16050619e-02,\n",
       "          2.68244803e-01, -3.36712152e-01,  5.33382371e-02,\n",
       "          8.70776922e-02],\n",
       "        [ 2.83811510e-01, -2.67257452e-01,  2.61901259e-01,\n",
       "         -1.04463518e-01,  4.07917380e-01, -2.39740357e-01,\n",
       "          2.47191284e-02, -1.95735067e-01, -5.69707811e-01,\n",
       "          5.05037457e-02],\n",
       "        [-1.18273884e-01, -2.54700650e-02, -8.04592669e-03,\n",
       "         -1.48722921e-02, -1.53684601e-01,  5.04355095e-02,\n",
       "          1.58917800e-01, -4.87291783e-01,  1.27394214e-01,\n",
       "         -1.50841787e-01],\n",
       "        [ 1.40968055e-01, -1.55555621e-01, -9.88623723e-02,\n",
       "          2.82660276e-01, -4.96308267e-01, -1.73478663e-01,\n",
       "         -6.13511264e-01,  1.55726433e-01, -7.76476264e-02,\n",
       "          2.98914790e-01],\n",
       "        [ 9.15441215e-02, -2.59070814e-01,  1.34127542e-01,\n",
       "         -3.76346320e-01,  1.17228046e-01, -1.98912531e-01,\n",
       "         -2.52758056e-01, -1.28944829e-01, -1.57783106e-01,\n",
       "          3.12638521e-01],\n",
       "        [-4.28067654e-01,  3.20570916e-01,  4.27429497e-01,\n",
       "         -3.18579786e-02, -8.00173134e-02, -3.23216245e-02,\n",
       "          4.76345830e-02,  4.05268073e-01, -3.58686954e-01,\n",
       "         -7.42530107e-01],\n",
       "        [-2.39009902e-01, -2.20583245e-01,  2.43104741e-01,\n",
       "         -3.78333055e-03,  1.16797179e-01,  9.62202176e-02,\n",
       "         -8.34176362e-01,  3.88209313e-01, -4.48148638e-01,\n",
       "          1.77738696e-01],\n",
       "        [-2.38775298e-01,  1.45957777e-02,  1.91336542e-01,\n",
       "          1.61634788e-01,  1.37143075e-01, -3.33029032e-01,\n",
       "         -2.24012345e-01,  7.74496868e-02,  7.78290182e-02,\n",
       "          1.06654517e-01],\n",
       "        [-7.42864534e-02,  3.11474642e-03, -2.18033805e-01,\n",
       "         -2.13635102e-01,  3.40160429e-02, -1.26990005e-01,\n",
       "         -9.41296518e-02,  1.93543490e-02,  1.78065613e-01,\n",
       "          1.21371336e-01],\n",
       "        [-1.12964496e-01, -2.81945825e-01, -8.28685522e-01,\n",
       "          1.51149202e-02, -3.40869337e-01,  4.46101159e-01,\n",
       "         -9.78015270e-03, -9.67398584e-02,  1.21015541e-01,\n",
       "          2.45762318e-01],\n",
       "        [-8.80291998e-01, -5.32394528e-01, -8.17280352e-01,\n",
       "          3.05940986e-01,  2.93949693e-01,  3.89634445e-02,\n",
       "         -1.08970320e+00, -1.00614823e-01, -5.77820718e-01,\n",
       "          4.84602779e-01],\n",
       "        [ 7.15470314e-02, -5.13042629e-01, -3.13167453e-01,\n",
       "          8.36455673e-02,  2.31707722e-01,  1.88981295e-01,\n",
       "         -9.15825292e-02,  1.79462850e-01,  8.15612823e-02,\n",
       "         -1.07996657e-01],\n",
       "        [ 1.04066864e-01, -2.67819595e-02,  1.10834330e-01,\n",
       "          3.02984565e-01, -2.27981776e-01,  2.22414657e-02,\n",
       "          2.99314171e-01,  1.57691762e-01, -3.01927812e-02,\n",
       "         -5.12618661e-01],\n",
       "        [ 2.23285064e-01,  3.74996156e-01, -2.49955848e-01,\n",
       "          6.20663688e-02,  1.09993564e-02, -1.40505165e-01,\n",
       "          9.18418076e-03,  5.81632435e-01, -3.99580926e-01,\n",
       "         -3.99132520e-01],\n",
       "        [ 2.10755050e-01,  9.72606093e-02,  1.64689738e-02,\n",
       "         -1.35400042e-01, -3.02608758e-01, -1.13871451e-02,\n",
       "         -1.56792942e-02,  4.67296168e-02,  2.80414730e-01,\n",
       "         -3.13481182e-01],\n",
       "        [-3.21265101e-01,  3.88017036e-02,  1.28499851e-01,\n",
       "         -2.20434427e-01, -1.59678772e-01, -1.27430990e-01,\n",
       "          3.15048009e-01,  5.94630353e-02,  5.89841343e-02,\n",
       "         -5.82507074e-01],\n",
       "        [-2.45017894e-02, -1.08448930e-01, -1.05138808e-01,\n",
       "          1.33923471e-01, -2.53882051e-01,  4.78974134e-02,\n",
       "         -1.61351830e-01, -1.86141759e-01,  1.74647048e-01,\n",
       "         -1.04485452e-01],\n",
       "        [-4.09249157e-01,  1.39996096e-01, -1.18278101e-01,\n",
       "         -4.15889621e-01, -1.74148381e-01,  1.04644947e-01,\n",
       "          2.83633888e-01, -2.19072819e-01, -1.71062183e-02,\n",
       "         -1.79973274e-01],\n",
       "        [ 2.84665167e-01, -5.64778805e-01, -1.86133295e-01,\n",
       "          8.36779922e-03, -5.03585935e-01, -1.68252558e-01,\n",
       "         -2.35668093e-01, -5.75216115e-02, -1.10906446e-02,\n",
       "         -1.45298958e-01],\n",
       "        [-3.12295109e-01,  5.39142489e-02,  3.05154502e-01,\n",
       "          2.26877943e-01,  7.46368617e-02,  1.35390580e-01,\n",
       "          1.86007351e-01, -1.65212482e-01,  7.45968223e-02,\n",
       "         -5.86208940e-01],\n",
       "        [ 4.39817198e-02, -2.78623551e-01, -2.25171238e-01,\n",
       "         -4.32187095e-02, -6.80238232e-02, -1.11542195e-02,\n",
       "          1.27899647e-01, -1.68200880e-02,  2.32043236e-01,\n",
       "         -4.16610204e-02],\n",
       "        [-5.28206537e-03,  8.56074877e-03,  1.25716761e-01,\n",
       "         -8.96866545e-02, -9.39230859e-01,  3.85215223e-01,\n",
       "          4.29292440e-01,  2.02449292e-01, -4.40219879e-01,\n",
       "         -3.89460683e-01],\n",
       "        [ 2.32563838e-01, -1.90296099e-01,  1.16510622e-01,\n",
       "         -4.03525800e-01, -1.12108618e-01, -3.98245193e-02,\n",
       "         -1.04461975e-01, -2.94832945e-01,  1.50291368e-01,\n",
       "         -3.86370182e-01],\n",
       "        [-4.35912400e-01,  2.76515186e-01, -3.67796719e-01,\n",
       "          1.27688169e-01,  2.45291531e-01,  2.19735384e-01,\n",
       "         -2.08874084e-02,  2.66533971e-01,  1.44513026e-01,\n",
       "         -4.56525348e-02],\n",
       "        [ 5.09613082e-02,  3.05271029e-01,  3.18878263e-01,\n",
       "         -4.58740562e-01,  3.38373870e-01,  6.18409254e-02,\n",
       "          2.65662193e-01,  4.32098389e-01,  8.76406059e-02,\n",
       "         -5.31161785e-01],\n",
       "        [-4.19742942e-01, -1.54865339e-01,  5.11448830e-02,\n",
       "         -5.23435652e-01,  1.51381418e-01, -3.19609642e-01,\n",
       "         -6.16300404e-01, -7.07885101e-02, -4.13373441e-01,\n",
       "          2.73059636e-01],\n",
       "        [-9.09861103e-02,  2.19330534e-01, -2.68713981e-01,\n",
       "          1.48304865e-01,  5.44654466e-02, -1.02617964e-01,\n",
       "         -2.39490177e-02,  2.59355009e-01,  9.17665809e-02,\n",
       "          2.12215632e-01],\n",
       "        [-4.48116921e-02, -3.14431608e-01,  1.23232530e-04,\n",
       "         -2.11573064e-01,  2.96704054e-01, -2.95400709e-01,\n",
       "         -3.25390920e-02, -1.11203268e-01,  1.70790225e-01,\n",
       "          1.83701769e-01],\n",
       "        [-3.53604913e-01,  6.66438520e-01, -3.17785621e-01,\n",
       "          1.93322487e-02,  6.48754239e-01, -7.67603815e-01,\n",
       "         -3.01778764e-01,  3.71870734e-02, -1.59114003e-01,\n",
       "         -1.79684862e-01],\n",
       "        [-9.75502878e-02, -7.83194155e-02,  1.81666180e-01,\n",
       "          2.22691134e-01,  2.02165902e-01,  1.82488374e-02,\n",
       "          2.76434958e-01, -3.26746404e-01,  1.94518551e-01,\n",
       "         -1.03611544e-01],\n",
       "        [-6.13085330e-01,  3.93606946e-02, -7.41441250e-02,\n",
       "         -3.45093668e-01,  2.24949524e-01,  1.94681928e-01,\n",
       "         -6.99360907e-01,  1.00406907e-01,  7.49135166e-02,\n",
       "          1.45526245e-01],\n",
       "        [ 1.52739286e-01,  4.89230067e-01, -7.46665537e-01,\n",
       "         -3.82306516e-01, -1.70324057e-01,  1.98516965e-01,\n",
       "          8.70477632e-02,  1.95807125e-03, -3.62982392e-01,\n",
       "          8.08927342e-02],\n",
       "        [ 1.76710248e-01, -1.99306071e-01,  2.87775882e-02,\n",
       "         -7.23554939e-02, -1.19028330e-01,  1.32014081e-01,\n",
       "          1.89040333e-01, -5.68599820e-01,  4.23662253e-02,\n",
       "         -1.34080142e-01],\n",
       "        [ 3.29198837e-01, -1.60696283e-01, -3.50765735e-01,\n",
       "         -4.15736467e-01, -6.96111694e-02,  1.16649643e-01,\n",
       "          2.80637324e-01,  9.23355445e-02, -3.67913723e-01,\n",
       "          3.13607901e-01],\n",
       "        [-7.52519444e-02, -4.33471687e-02,  8.37611035e-02,\n",
       "          3.57182294e-01, -7.23758459e-01, -8.55970159e-02,\n",
       "          1.73594043e-01,  1.43170208e-01, -3.64247024e-01,\n",
       "         -1.68130785e-01],\n",
       "        [-2.59930849e-01,  2.36776814e-01,  1.27088353e-01,\n",
       "         -3.22969913e-01, -1.45826280e-01,  4.31664437e-01,\n",
       "         -3.00715983e-01, -8.70146528e-02, -3.63097340e-01,\n",
       "          3.04202288e-01],\n",
       "        [ 1.18937589e-01, -2.08886340e-01,  1.81525737e-01,\n",
       "          2.76148975e-01,  9.42073837e-02,  3.34428638e-01,\n",
       "         -2.39615053e-01,  8.34789276e-02, -2.05349624e-01,\n",
       "         -2.64332741e-01],\n",
       "        [-5.37101030e-01,  4.79779452e-01,  9.59574133e-02,\n",
       "          3.21405441e-01, -2.15438992e-01,  3.58340740e-01,\n",
       "         -9.07886922e-01, -2.89652795e-01, -3.64693910e-01,\n",
       "          1.24554284e-01],\n",
       "        [ 9.37722921e-02,  2.41868049e-01, -5.30660152e-01,\n",
       "          3.04824829e-01,  3.13746601e-01, -3.74310344e-01,\n",
       "          1.25698939e-01, -1.94318276e-02, -5.53536594e-01,\n",
       "         -1.77288413e-01],\n",
       "        [-3.74547720e-01,  1.94962904e-01, -1.94845095e-01,\n",
       "          4.07438427e-01,  1.06316268e-01, -1.18098736e-01,\n",
       "          3.79340529e-01, -1.36723518e-01, -3.67288232e-01,\n",
       "         -5.45085728e-01],\n",
       "        [-6.55258417e-01,  2.00692192e-01, -6.17674254e-02,\n",
       "          3.29953730e-01,  1.33697465e-01, -3.91192250e-02,\n",
       "         -7.33386338e-01, -2.00849846e-01, -5.13585448e-01,\n",
       "          4.20633107e-01],\n",
       "        [-1.79071009e-01,  4.50653881e-02,  2.32097390e-03,\n",
       "         -5.21372557e-01,  1.97147518e-01, -4.25346524e-01,\n",
       "          3.99825215e-01,  2.78124303e-01, -5.51634133e-01,\n",
       "         -1.20226410e-03],\n",
       "        [ 9.88555625e-02, -2.65681267e-01,  1.12459041e-01,\n",
       "          7.22032785e-02,  2.63012648e-01,  1.43760130e-01,\n",
       "          8.13617110e-02, -4.33531493e-01,  1.97644934e-01,\n",
       "          9.89150107e-02],\n",
       "        [-5.59424888e-03,  2.26144582e-01, -1.84637472e-01,\n",
       "         -4.59650427e-01,  2.50530064e-01, -8.85175355e-03,\n",
       "         -2.60937989e-01,  4.09352750e-01, -7.62601197e-02,\n",
       "          2.02439427e-01],\n",
       "        [-1.89470366e-01,  2.49803528e-01,  2.36463413e-01,\n",
       "         -1.78063199e-01, -2.57791251e-01, -3.33131969e-01,\n",
       "          1.18923098e-01, -2.26307169e-01,  1.73851743e-01,\n",
       "          2.27434412e-01],\n",
       "        [ 7.62577206e-02, -6.04444265e-01,  4.46320251e-02,\n",
       "         -5.17142750e-03,  4.39127013e-02,  7.75789768e-02,\n",
       "          1.93852896e-03,  1.82052478e-01, -1.56977996e-01,\n",
       "          7.44713247e-02],\n",
       "        [ 1.17460541e-01,  1.53480351e-01,  4.64033186e-02,\n",
       "         -1.28090009e-01, -9.75598693e-02,  3.33970875e-01,\n",
       "         -6.23489738e-01, -2.58205622e-01, -2.07368731e-02,\n",
       "          1.96904600e-01],\n",
       "        [ 1.07440092e-01, -2.80565858e-01,  1.55324742e-01,\n",
       "          1.32419825e-01, -5.20628035e-01,  1.08929891e-02,\n",
       "         -8.68061781e-02, -2.57422924e-01,  9.78632718e-02,\n",
       "         -1.50333671e-02],\n",
       "        [-3.63497645e-01,  1.54590741e-01, -6.29925281e-02,\n",
       "          4.47530419e-01, -5.61129004e-02, -8.64584744e-01,\n",
       "         -2.43794639e-02,  1.29539549e-01, -1.85961008e-01,\n",
       "          1.33218989e-01],\n",
       "        [-7.63752013e-02, -2.70930350e-01,  1.14521161e-01,\n",
       "          7.32362717e-02, -1.35914063e+00,  2.47710705e-01,\n",
       "         -1.62588909e-01,  2.69968748e-01, -4.78150807e-02,\n",
       "         -7.05463588e-02],\n",
       "        [-6.21966958e-01,  2.03626007e-01,  1.15369469e-01,\n",
       "          2.73938596e-01,  2.15910953e-02,  9.66257825e-02,\n",
       "         -8.98256078e-02, -2.48431697e-01,  1.02882750e-01,\n",
       "         -2.75226384e-02],\n",
       "        [-4.21526015e-01, -4.93848890e-01,  2.66918093e-01,\n",
       "         -1.46778256e-01, -4.37149316e-01,  1.02083094e-01,\n",
       "         -3.97899896e-01,  2.49375120e-01, -1.40739918e-01,\n",
       "          6.09913766e-02],\n",
       "        [-2.69772291e-01,  8.92672017e-02, -2.40275472e-01,\n",
       "          5.58967516e-02,  8.40092544e-03,  5.32025332e-03,\n",
       "          2.56611019e-01, -1.88374743e-02,  2.43178830e-02,\n",
       "          1.56381026e-01],\n",
       "        [-3.24413218e-02,  1.01569049e-01,  2.96706676e-01,\n",
       "         -3.22002053e-01,  5.45381382e-02, -3.44302595e-01,\n",
       "          1.61168367e-01, -1.79930016e-01,  3.23926389e-01,\n",
       "         -1.06190890e-01],\n",
       "        [-1.21350028e-02, -3.25741500e-01, -8.23985562e-02,\n",
       "         -1.12781473e-01,  2.00869203e-01,  3.29032280e-02,\n",
       "         -1.78821340e-01,  2.52022833e-01,  2.27195218e-01,\n",
       "          2.32950106e-01],\n",
       "        [ 1.63563699e-01,  9.55762416e-02,  1.89791515e-01,\n",
       "          3.99832614e-02, -4.72104281e-01, -1.76337630e-01,\n",
       "         -1.00088120e-01,  1.23429164e-01,  1.01536401e-01,\n",
       "          1.39559001e-01],\n",
       "        [-1.87128082e-01, -4.24013972e-01, -2.59341121e-01,\n",
       "          1.52391613e-01, -8.76536518e-02,  4.33476903e-02,\n",
       "          6.46327659e-02, -6.25646263e-02,  1.00961573e-01,\n",
       "          2.24567261e-02],\n",
       "        [-3.50607067e-01,  3.45853239e-01, -2.29190677e-01,\n",
       "         -5.86331666e-01, -1.32147998e-01,  3.81521046e-01,\n",
       "          1.00410454e-01, -3.11379969e-01,  3.18335257e-02,\n",
       "          3.56973499e-01],\n",
       "        [-2.26038545e-01,  2.83164769e-01, -1.04745351e-01,\n",
       "         -3.05543274e-01, -1.76328421e-01, -2.31576070e-01,\n",
       "         -1.92973003e-01,  2.18239456e-01,  2.71314457e-02,\n",
       "         -1.93085402e-01],\n",
       "        [-1.09251574e-01, -5.81524372e-01,  8.13086797e-03,\n",
       "         -5.40719815e-02, -6.02672040e-01,  6.73963487e-01,\n",
       "         -7.05116568e-03,  1.29289523e-01, -2.93352991e-01,\n",
       "         -3.75264049e-01],\n",
       "        [ 2.25108042e-01, -1.14424206e-01,  3.84508312e-01,\n",
       "          4.16105464e-02, -7.12335631e-02, -1.33280337e-01,\n",
       "          3.20366651e-01,  4.85688388e-01, -5.80281436e-01,\n",
       "         -4.58586603e-01],\n",
       "        [ 8.90458524e-02,  1.93619151e-02,  1.66120872e-01,\n",
       "         -1.00808635e-01, -4.50768352e-01,  1.51836261e-01,\n",
       "          3.14615250e-01, -1.32448152e-01,  2.48517230e-01,\n",
       "         -7.10891306e-01],\n",
       "        [-9.01309609e-01, -2.84858663e-02, -4.07929361e-01,\n",
       "          5.73967755e-01,  2.79220492e-01,  4.52690750e-01,\n",
       "         -6.31905854e-01, -3.09850574e-01, -3.53468716e-01,\n",
       "          9.07906443e-02],\n",
       "        [-3.58193278e-01,  8.58907029e-02, -8.40995163e-02,\n",
       "         -6.54128846e-03,  1.06885076e-01, -2.37749562e-01,\n",
       "         -3.31233114e-01, -8.52643773e-02,  2.07030892e-01,\n",
       "         -1.47471502e-01],\n",
       "        [-9.40522924e-02, -1.01640627e-01,  4.16323654e-02,\n",
       "          2.40919128e-01, -5.92950940e-01,  2.47793853e-01,\n",
       "         -4.11827296e-01, -7.49428570e-01,  1.35044321e-01,\n",
       "          2.74813682e-01]], dtype=float32),\n",
       " array([-0.13833642, -0.05035985, -0.03294411, -0.19442202,  0.11734183,\n",
       "         0.12712461,  0.00839746,  0.01351041,  0.13899738, -0.05146706],\n",
       "       dtype=float32)]"
      ]
     },
     "execution_count": 21,
     "metadata": {},
     "output_type": "execute_result"
    }
   ],
   "source": [
    "model.get_weights()"
   ]
  },
  {
   "cell_type": "code",
   "execution_count": null,
   "metadata": {},
   "outputs": [],
   "source": []
  }
 ],
 "metadata": {
  "kernelspec": {
   "display_name": "Python 3",
   "language": "python",
   "name": "python3"
  },
  "language_info": {
   "codemirror_mode": {
    "name": "ipython",
    "version": 3
   },
   "file_extension": ".py",
   "mimetype": "text/x-python",
   "name": "python",
   "nbconvert_exporter": "python",
   "pygments_lexer": "ipython3",
   "version": "3.8.8"
  }
 },
 "nbformat": 4,
 "nbformat_minor": 4
}
